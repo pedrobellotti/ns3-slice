{
 "cells": [
  {
   "cell_type": "code",
   "execution_count": null,
   "metadata": {},
   "outputs": [],
   "source": [
    "import pandas as pd\n",
    "import scipy.stats as st\n",
    "import numpy as np\n",
    "import matplotlib.pyplot as plt\n",
    "%matplotlib inline"
   ]
  },
  {
   "cell_type": "code",
   "execution_count": null,
   "metadata": {},
   "outputs": [],
   "source": [
    "df = pd.read_table (\"resultados.txt\", sep='\\s+', index_col = [0, 1])"
   ]
  },
  {
   "cell_type": "code",
   "execution_count": null,
   "metadata": {
    "scrolled": false
   },
   "outputs": [],
   "source": [
    "#df"
   ]
  },
  {
   "cell_type": "code",
   "execution_count": null,
   "metadata": {},
   "outputs": [],
   "source": [
    "# Função para cálculo do intervalo de confiança de 95%\n",
    "def confinterval (data):\n",
    "    confidence = 0.95\n",
    "    return st.sem (data) * st.t.ppf ((1 + confidence) / 2.0, len (data) - 1);"
   ]
  },
  {
   "cell_type": "code",
   "execution_count": null,
   "metadata": {
    "scrolled": false
   },
   "outputs": [],
   "source": [
    "lista_rng = ['1', '2','3','4']\n",
    "for i in lista_rng:\n",
    "    g=df[df.index.get_level_values('RNG').isin([i])].filter(items=['dropSlice1', 'dropSlice2'])\n",
    "    g.plot.bar(figsize=(20,10),title=\"Perda de pacotes, RNG = \" + i, logy=True)"
   ]
  },
  {
   "cell_type": "code",
   "execution_count": null,
   "metadata": {
    "scrolled": false
   },
   "outputs": [],
   "source": [
    "lista_host = ['50-50', '100-100','200-200','300-300','400-400','500-500','600-600']\n",
    "for i in lista_host:\n",
    "    g=df[df.index.get_level_values('numHosts').isin([i])].filter(items=['dropSlice1', 'dropSlice2'])\n",
    "    g.plot.bar(figsize=(20,10),title=\"Perda de pacotes, hosts = \" + i)"
   ]
  },
  {
   "cell_type": "code",
   "execution_count": null,
   "metadata": {
    "scrolled": false
   },
   "outputs": [],
   "source": [
    "#lista_host = ['50-50', '100-100','200-200','300-300','400-400','500-500','600-600']\n",
    "#for i in lista_host:\n",
    "#    conjunto=df[df.index.get_level_values('numHosts').isin([i])].filter(items=['dropSlice1', 'dropSlice2'])\n",
    "#    media = conjunto.mean(axis=0)\n",
    "#    desvio_padrao = np.std(conjunto)\n",
    "#    conf_int = st.norm.interval(0.95, loc=media, scale=desvio_padrao)\n",
    "#    conjunto.plot.bar(figsize=(20,10),title=\"Perda de pacotes, hosts = \" + i, yerr=conf_int)"
   ]
  },
  {
   "cell_type": "code",
   "execution_count": null,
   "metadata": {
    "scrolled": false
   },
   "outputs": [],
   "source": [
    "#gpb = df.groupby ([\"RNG\",\"numHosts\", \"dropSlice1\", \"dropSlice2\"])\n",
    "#val = gpb[\"dropSlice1\", \"dropSlice2\"].sum ().apply (lambda row: 100 * (row[\"dropSlice1\"]) / row[\"dropSlice2\"], axis=1)\n",
    "#mea = val.groupby ([\"numHosts\", \"RNG\"]).mean ().unstack ()\n",
    "#err = val.groupby ([\"numHosts\", \"RNG\"]).aggregate (confinterval).unstack ()\n",
    "#display (mea)\n",
    "#display (err)\n",
    "\n",
    "#mea.plot (kind='bar', yerr=err, title=\"Perda total de pacotes\", figsize=(10,5));"
   ]
  },
  {
   "cell_type": "code",
   "execution_count": null,
   "metadata": {},
   "outputs": [],
   "source": []
  }
 ],
 "metadata": {
  "kernelspec": {
   "display_name": "Python 2",
   "language": "python",
   "name": "python2"
  },
  "language_info": {
   "codemirror_mode": {
    "name": "ipython",
    "version": 2
   },
   "file_extension": ".py",
   "mimetype": "text/x-python",
   "name": "python",
   "nbconvert_exporter": "python",
   "pygments_lexer": "ipython2",
   "version": "2.7.15"
  }
 },
 "nbformat": 4,
 "nbformat_minor": 2
}
