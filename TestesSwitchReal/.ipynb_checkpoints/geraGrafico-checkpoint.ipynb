{
 "cells": [
  {
   "cell_type": "code",
   "execution_count": 1,
   "metadata": {},
   "outputs": [],
   "source": [
    "import pandas as pd\n",
    "import scipy.stats as st\n",
    "import numpy as np\n",
    "import matplotlib.pyplot as plt\n",
    "%matplotlib inline"
   ]
  },
  {
   "cell_type": "code",
   "execution_count": 4,
   "metadata": {},
   "outputs": [],
   "source": [
    "df = pd.read_table (\"formatado.txt\", sep='\\s+', index_col = [0, 1])"
   ]
  },
  {
   "cell_type": "code",
   "execution_count": 5,
   "metadata": {},
   "outputs": [
    {
     "data": {
      "text/html": [
       "<div>\n",
       "<style scoped>\n",
       "    .dataframe tbody tr th:only-of-type {\n",
       "        vertical-align: middle;\n",
       "    }\n",
       "\n",
       "    .dataframe tbody tr th {\n",
       "        vertical-align: top;\n",
       "    }\n",
       "\n",
       "    .dataframe thead th {\n",
       "        text-align: right;\n",
       "    }\n",
       "</style>\n",
       "<table border=\"1\" class=\"dataframe\">\n",
       "  <thead>\n",
       "    <tr style=\"text-align: right;\">\n",
       "      <th></th>\n",
       "      <th></th>\n",
       "      <th>Enviado</th>\n",
       "      <th>Recebido</th>\n",
       "    </tr>\n",
       "    <tr>\n",
       "      <th>Execucao</th>\n",
       "      <th>Regras</th>\n",
       "      <th></th>\n",
       "      <th></th>\n",
       "    </tr>\n",
       "  </thead>\n",
       "  <tbody>\n",
       "    <tr>\n",
       "      <th rowspan=\"2\" valign=\"top\">1</th>\n",
       "      <th>2000</th>\n",
       "      <td>4.303792</td>\n",
       "      <td>159.626442</td>\n",
       "    </tr>\n",
       "    <tr>\n",
       "      <th>10</th>\n",
       "      <td>170.644024</td>\n",
       "      <td>187.158167</td>\n",
       "    </tr>\n",
       "    <tr>\n",
       "      <th rowspan=\"2\" valign=\"top\">2</th>\n",
       "      <th>2000</th>\n",
       "      <td>4.040834</td>\n",
       "      <td>185.112292</td>\n",
       "    </tr>\n",
       "    <tr>\n",
       "      <th>10</th>\n",
       "      <td>196.121003</td>\n",
       "      <td>211.783742</td>\n",
       "    </tr>\n",
       "    <tr>\n",
       "      <th rowspan=\"2\" valign=\"top\">3</th>\n",
       "      <th>2000</th>\n",
       "      <td>5.465250</td>\n",
       "      <td>176.951462</td>\n",
       "    </tr>\n",
       "    <tr>\n",
       "      <th>10</th>\n",
       "      <td>187.968516</td>\n",
       "      <td>203.180093</td>\n",
       "    </tr>\n",
       "  </tbody>\n",
       "</table>\n",
       "</div>"
      ],
      "text/plain": [
       "                    Enviado    Recebido\n",
       "Execucao Regras                        \n",
       "1        2000      4.303792  159.626442\n",
       "         10      170.644024  187.158167\n",
       "2        2000      4.040834  185.112292\n",
       "         10      196.121003  211.783742\n",
       "3        2000      5.465250  176.951462\n",
       "         10      187.968516  203.180093"
      ]
     },
     "execution_count": 5,
     "metadata": {},
     "output_type": "execute_result"
    }
   ],
   "source": [
    "df"
   ]
  },
  {
   "cell_type": "code",
   "execution_count": 4,
   "metadata": {
    "scrolled": false
   },
   "outputs": [],
   "source": []
  },
  {
   "cell_type": "code",
   "execution_count": 5,
   "metadata": {},
   "outputs": [],
   "source": []
  },
  {
   "cell_type": "code",
   "execution_count": 6,
   "metadata": {},
   "outputs": [],
   "source": [
    "#df = df.query(\"numHosts != '33-67'\" and \"numHosts != '67-33'\")\n",
    "gpb = df.groupby ([\"Regras\"])"
   ]
  },
  {
   "cell_type": "code",
   "execution_count": 7,
   "metadata": {
    "scrolled": true
   },
   "outputs": [
    {
     "data": {
      "image/png": "[encoded data removed]",
      "text/plain": [
       "<Figure size 720x360 with 1 Axes>"
      ]
     },
     "metadata": {},
     "output_type": "display_data"
    }
   ],
   "source": [
    "# Grafico da porcentagem de perda de pacotes em relação aos pacotes transmitidos no slice\n",
    "err = gpb.aggregate(confinterval)\n",
    "media = gpb.mean()\n",
    "err = err.filter(items=['%dropS1', '%dropS2'])\n",
    "media = media.filter(items=['%dropS1', '%dropS2'])\n",
    "\n",
    "media.plot (kind='bar', yerr=err, title=\"% perda de pacotes em relacao ao total de pacotes transmitidos\\n\"+subtitulo, rot=360, figsize=(10,5))\n",
    "plt.xlabel('Numero de hosts em cada grupo de cada slice')\n",
    "plt.ylabel('% de pacotes')\n",
    "plt.gca().legend(('% Pacotes perdidos no slice 1','% Pacotes perdidos no slice 2'))\n",
    "plt.savefig('grafico_hosts'+sufixo+sufixoRL+'_porcentagem.pdf')"
   ]
  },
  {
   "cell_type": "code",
   "execution_count": 8,
   "metadata": {
    "scrolled": true
   },
   "outputs": [],
   "source": []
  },
  {
   "cell_type": "code",
   "execution_count": 9,
   "metadata": {},
   "outputs": [],
   "source": []
  },
  {
   "cell_type": "code",
   "execution_count": 10,
   "metadata": {
    "scrolled": false
   },
   "outputs": [],
   "source": []
  },
  {
   "cell_type": "code",
   "execution_count": 11,
   "metadata": {
    "scrolled": false
   },
   "outputs": [],
   "source": []
  },
  {
   "cell_type": "code",
   "execution_count": null,
   "metadata": {},
   "outputs": [],
   "source": []
  }
 ],
 "metadata": {
  "kernelspec": {
   "display_name": "Python 2",
   "language": "python",
   "name": "python2"
  },
  "language_info": {
   "codemirror_mode": {
    "name": "ipython",
    "version": 2
   },
   "file_extension": ".py",
   "mimetype": "text/x-python",
   "name": "python",
   "nbconvert_exporter": "python",
   "pygments_lexer": "ipython2",
   "version": "2.7.15"
  }
 },
 "nbformat": 4,
 "nbformat_minor": 2
}
