{
 "cells": [
  {
   "cell_type": "code",
   "execution_count": null,
   "metadata": {},
   "outputs": [],
   "source": [
    "import pandas as pd\n",
    "import scipy.stats as st\n",
    "import numpy as np\n",
    "import matplotlib.pyplot as plt\n",
    "%matplotlib inline"
   ]
  },
  {
   "cell_type": "code",
   "execution_count": null,
   "metadata": {},
   "outputs": [],
   "source": [
    "df = pd.read_table (\"resultados_diferentes.txt\", sep='\\s+', index_col = [1, 0])"
   ]
  },
  {
   "cell_type": "code",
   "execution_count": null,
   "metadata": {
    "scrolled": false
   },
   "outputs": [],
   "source": [
    "df[\"%dropS1\"] = df.apply (lambda row: 100 * (float)(row[\"dropSlice1\"]) / row[\"TxpacSlice1\"], axis=1)\n",
    "df[\"%dropS2\"] = df.apply (lambda row: 100 * (float)(row[\"dropSlice2\"]) / row[\"TxpacSlice2\"], axis=1)\n",
    "#df"
   ]
  },
  {
   "cell_type": "code",
   "execution_count": null,
   "metadata": {},
   "outputs": [],
   "source": [
    "# Função para cálculo do intervalo de confiança de 95%\n",
    "def confinterval (data):\n",
    "    confidence = 0.95\n",
    "    return st.sem (data) * st.t.ppf ((1 + confidence) / 2.0, len (data) - 1);"
   ]
  },
  {
   "cell_type": "code",
   "execution_count": null,
   "metadata": {
    "scrolled": false
   },
   "outputs": [],
   "source": [
    "df = df.query(\"numHosts != '67-33'\")\n",
    "gpb = df.groupby ([\"numHosts\"])\n",
    "media = gpb.mean()\n",
    "err = gpb.aggregate(confinterval)\n",
    "err = err.filter(items=['dropSlice1', 'dropSlice2'])\n",
    "media = media.filter(items=['dropSlice1', 'dropSlice2'])\n",
    "#display (media)\n",
    "#display (err)\n",
    "\n",
    "media.plot (kind='bar', yerr=err, title=\"Perda total de pacotes\", rot=360, figsize=(10,5))\n",
    "plt.xlabel('Numero de hosts em cada grupo de cada slice')\n",
    "plt.ylabel('Quantidade de pacotes')\n",
    "plt.gca().legend(('Pacotes perdidos no slice 1','Pacotes perdidos no slice 2'))\n",
    "plt.savefig('grafico_hosts_diferentes.pdf')"
   ]
  },
  {
   "cell_type": "code",
   "execution_count": null,
   "metadata": {},
   "outputs": [],
   "source": [
    "err = gpb.aggregate(confinterval)\n",
    "media = gpb.mean()\n",
    "err = err.filter(items=['%dropS1', '%dropS2'])\n",
    "media = media.filter(items=['%dropS1', '%dropS2'])\n",
    "\n",
    "media.plot (kind='bar', yerr=err, title=\"Perda total de pacotes (%)\", rot=360, figsize=(10,5))\n",
    "plt.xlabel('Numero de hosts em cada grupo de cada slice')\n",
    "plt.ylabel('% de pacotes')\n",
    "plt.gca().legend(('% Pacotes perdidos no slice 1','% Pacotes perdidos no slice 2'))\n",
    "plt.savefig('grafico_hosts_diferentes_porcentagem.pdf')"
   ]
  },
  {
   "cell_type": "code",
   "execution_count": null,
   "metadata": {
    "scrolled": false
   },
   "outputs": [],
   "source": [
    "#Graficos para cada RNG\n",
    "\n",
    "#lista_rng = ['1', '2','3','4']\n",
    "#for i in lista_rng:\n",
    "#    g=df[df.index.get_level_values('RNG').isin([i])].filter(items=['dropSlice1', 'dropSlice2'])\n",
    "#    g.plot.bar(figsize=(20,10),title=\"Perda de pacotes, RNG = \" + i, logy=True)"
   ]
  },
  {
   "cell_type": "code",
   "execution_count": null,
   "metadata": {
    "scrolled": false
   },
   "outputs": [],
   "source": [
    "#Graficos para cada numero de host\n",
    "\n",
    "#lista_host = ['100-100','200-200','300-300','400-400','500-500','600-600']\n",
    "#for i in lista_host:\n",
    "#    g=df[df.index.get_level_values('numHosts').isin([i])].filter(items=['dropSlice1', 'dropSlice2'])\n",
    "#    g.plot.bar(figsize=(20,10),title=\"Perda de pacotes, hosts = \" + i)"
   ]
  },
  {
   "cell_type": "code",
   "execution_count": null,
   "metadata": {},
   "outputs": [],
   "source": []
  }
 ],
 "metadata": {
  "kernelspec": {
   "display_name": "Python 2",
   "language": "python",
   "name": "python2"
  },
  "language_info": {
   "codemirror_mode": {
    "name": "ipython",
    "version": 2
   },
   "file_extension": ".py",
   "mimetype": "text/x-python",
   "name": "python",
   "nbconvert_exporter": "python",
   "pygments_lexer": "ipython2",
   "version": "2.7.15"
  }
 },
 "nbformat": 4,
 "nbformat_minor": 2
}
